{
  "nbformat": 4,
  "nbformat_minor": 0,
  "metadata": {
    "colab": {
      "name": "Classifier.ipynb",
      "provenance": [],
      "collapsed_sections": []
    },
    "kernelspec": {
      "name": "python3",
      "display_name": "Python 3"
    },
    "accelerator": "GPU"
  },
  "cells": [
    {
      "cell_type": "code",
      "metadata": {
        "id": "XySzypuPtyEA",
        "colab_type": "code",
        "colab": {}
      },
      "source": [
        "import keras,os\n",
        "from keras.models import Sequential\n",
        "from keras.layers import Dense, Conv2D, MaxPool2D , Flatten\n",
        "from keras.preprocessing.image import ImageDataGenerator\n",
        "from keras.optimizers import Adam\n",
        "import keras.layers as layers\n",
        "import numpy as np\n",
        "from keras.models import load_model\n",
        "import cv2"
      ],
      "execution_count": 0,
      "outputs": []
    },
    {
      "cell_type": "markdown",
      "metadata": {
        "id": "R3Ic-KdWBzPY",
        "colab_type": "text"
      },
      "source": [
        "Referred to the following:: \n",
        "https://towardsdatascience.com/step-by-step-vgg16-implementation-in-keras-for-beginners-a833c686ae6c\n",
        "\n",
        "https://www.pyimagesearch.com/2018/09/24/opencv-face-recognition/"
      ]
    },
    {
      "cell_type": "markdown",
      "metadata": {
        "id": "pwtTOo5qdHwt",
        "colab_type": "text"
      },
      "source": [
        ""
      ]
    },
    {
      "cell_type": "code",
      "metadata": {
        "id": "K2jgzwiDt0W4",
        "colab_type": "code",
        "outputId": "e76aefa8-5d55-4cea-e4f5-31a3eba103b0",
        "colab": {
          "base_uri": "https://localhost:8080/",
          "height": 34
        }
      },
      "source": [
        "from google.colab import drive\n",
        "drive.mount('/content/drive/')"
      ],
      "execution_count": 33,
      "outputs": [
        {
          "output_type": "stream",
          "text": [
            "Drive already mounted at /content/drive/; to attempt to forcibly remount, call drive.mount(\"/content/drive/\", force_remount=True).\n"
          ],
          "name": "stdout"
        }
      ]
    },
    {
      "cell_type": "code",
      "metadata": {
        "id": "1HSU-Z64vO0r",
        "colab_type": "code",
        "outputId": "5217ae5a-cd8d-425b-9f25-36b309dbd594",
        "colab": {
          "base_uri": "https://localhost:8080/",
          "height": 34
        }
      },
      "source": [
        "%cd ./drive/My Drive/AML_Project/Images\n"
      ],
      "execution_count": 42,
      "outputs": [
        {
          "output_type": "stream",
          "text": [
            "/content/drive/My Drive/AML_Project/Images\n"
          ],
          "name": "stdout"
        }
      ]
    },
    {
      "cell_type": "code",
      "metadata": {
        "id": "H2GW75juv7Mi",
        "colab_type": "code",
        "outputId": "ae8cd31d-951c-4e48-e307-2fb296042e42",
        "colab": {
          "base_uri": "https://localhost:8080/",
          "height": 34
        }
      },
      "source": [
        "%ls"
      ],
      "execution_count": 43,
      "outputs": [
        {
          "output_type": "stream",
          "text": [
            "\u001b[0m\u001b[01;34mTraining\u001b[0m/  \u001b[01;34mValidation\u001b[0m/  vgg16_1.h5\n"
          ],
          "name": "stdout"
        }
      ]
    },
    {
      "cell_type": "code",
      "metadata": {
        "id": "tCTE5F9IuIUq",
        "colab_type": "code",
        "outputId": "73b73058-0bb7-4bf2-e897-e68fd267a960",
        "colab": {
          "base_uri": "https://localhost:8080/",
          "height": 52
        }
      },
      "source": [
        "%cd ./content/drive/My Drive/AML_Project/Images/Training/"
      ],
      "execution_count": 0,
      "outputs": [
        {
          "output_type": "stream",
          "text": [
            "[Errno 2] No such file or directory: './content/drive/My Drive/AML_Project/Images/Training/'\n",
            "/content\n"
          ],
          "name": "stdout"
        }
      ]
    },
    {
      "cell_type": "code",
      "metadata": {
        "id": "OJktoPh4wcsM",
        "colab_type": "code",
        "outputId": "267f7516-67b1-45fe-91a9-196ab7959646",
        "colab": {
          "base_uri": "https://localhost:8080/",
          "height": 52
        }
      },
      "source": [
        "trdata = ImageDataGenerator(rescale=1./255)\n",
        "traindata = trdata.flow_from_directory(directory=\"/content/drive/My Drive/AML_Project/Images/Training/\",class_mode='categorical',target_size=(224,224))\n",
        "\n",
        "tsdata = ImageDataGenerator(rescale=1./255)\n",
        "testdata = tsdata.flow_from_directory(directory=\"/content/drive/My Drive/AML_Project/Images/Validation/\",class_mode='categorical', target_size=(224,224))"
      ],
      "execution_count": 0,
      "outputs": [
        {
          "output_type": "stream",
          "text": [
            "Found 30951 images belonging to 3 classes.\n",
            "Found 4655 images belonging to 3 classes.\n"
          ],
          "name": "stdout"
        }
      ]
    },
    {
      "cell_type": "code",
      "metadata": {
        "id": "J_PrgxLfxXIP",
        "colab_type": "code",
        "outputId": "67998229-4266-4430-a9f6-151256ab603f",
        "colab": {
          "base_uri": "https://localhost:8080/",
          "height": 72
        }
      },
      "source": [
        "model = Sequential()"
      ],
      "execution_count": 0,
      "outputs": [
        {
          "output_type": "stream",
          "text": [
            "WARNING:tensorflow:From /usr/local/lib/python3.6/dist-packages/keras/backend/tensorflow_backend.py:66: The name tf.get_default_graph is deprecated. Please use tf.compat.v1.get_default_graph instead.\n",
            "\n"
          ],
          "name": "stdout"
        }
      ]
    },
    {
      "cell_type": "code",
      "metadata": {
        "id": "Zo0lfCP1yEM9",
        "colab_type": "code",
        "outputId": "17e32620-c2b2-462d-847a-af7ab17252e7",
        "colab": {
          "base_uri": "https://localhost:8080/",
          "height": 142
        }
      },
      "source": [
        "model.add(Conv2D(input_shape=(224,224,3),filters=64,kernel_size=(3,3),padding=\"same\", activation=\"relu\"))\n",
        "model.add(Conv2D(filters=64,kernel_size=(3,3),padding=\"same\", activation=\"relu\"))\n",
        "model.add(MaxPool2D(pool_size=(2,2),strides=(2,2)))"
      ],
      "execution_count": 0,
      "outputs": [
        {
          "output_type": "stream",
          "text": [
            "WARNING:tensorflow:From /usr/local/lib/python3.6/dist-packages/keras/backend/tensorflow_backend.py:541: The name tf.placeholder is deprecated. Please use tf.compat.v1.placeholder instead.\n",
            "\n",
            "WARNING:tensorflow:From /usr/local/lib/python3.6/dist-packages/keras/backend/tensorflow_backend.py:4432: The name tf.random_uniform is deprecated. Please use tf.random.uniform instead.\n",
            "\n",
            "WARNING:tensorflow:From /usr/local/lib/python3.6/dist-packages/keras/backend/tensorflow_backend.py:4267: The name tf.nn.max_pool is deprecated. Please use tf.nn.max_pool2d instead.\n",
            "\n"
          ],
          "name": "stdout"
        }
      ]
    },
    {
      "cell_type": "code",
      "metadata": {
        "id": "G-i0-tQXyEJu",
        "colab_type": "code",
        "colab": {}
      },
      "source": [
        "model.add(Conv2D(filters=128, kernel_size=(3,3), padding=\"same\", activation=\"relu\"))\n",
        "#model.add(Conv2D(filters=128, kernel_size=(3,3), padding=\"same\", activation=\"relu\"))\n",
        "model.add(MaxPool2D(pool_size=(2,2),strides=(2,2)))"
      ],
      "execution_count": 0,
      "outputs": []
    },
    {
      "cell_type": "code",
      "metadata": {
        "id": "0wLFONb9yEHy",
        "colab_type": "code",
        "colab": {}
      },
      "source": [
        "model.add(Conv2D(filters=256, kernel_size=(3,3), padding=\"same\", activation=\"relu\"))\n",
        "#model.add(Conv2D(filters=256, kernel_size=(3,3), padding=\"same\", activation=\"relu\"))\n",
        "model.add(Conv2D(filters=256, kernel_size=(3,3), padding=\"same\", activation=\"relu\"))\n",
        "model.add(MaxPool2D(pool_size=(2,2),strides=(2,2)))"
      ],
      "execution_count": 0,
      "outputs": []
    },
    {
      "cell_type": "code",
      "metadata": {
        "id": "yikQlDRLyEDk",
        "colab_type": "code",
        "colab": {}
      },
      "source": [
        "model.add(Conv2D(filters=512, kernel_size=(3,3), padding=\"same\", activation=\"relu\"))\n",
        "#model.add(Conv2D(filters=512, kernel_size=(3,3), padding=\"same\", activation=\"relu\"))\n",
        "#model.add(Conv2D(filters=512, kernel_size=(3,3), padding=\"same\", activation=\"relu\"))\n",
        "model.add(MaxPool2D(pool_size=(2,2),strides=(2,2)))"
      ],
      "execution_count": 0,
      "outputs": []
    },
    {
      "cell_type": "code",
      "metadata": {
        "id": "P6xk0ucbyECh",
        "colab_type": "code",
        "colab": {}
      },
      "source": [
        "# model.add(Conv2D(filters=512, kernel_size=(3,3), padding=\"same\", activation=\"relu\"))\n",
        "# model.add(Conv2D(filters=512, kernel_size=(3,3), padding=\"same\", activation=\"relu\"))\n",
        "# model.add(Conv2D(filters=512, kernel_size=(3,3), padding=\"same\", activation=\"relu\"))\n",
        "# model.add(MaxPool2D(pool_size=(2,2),strides=(2,2)))"
      ],
      "execution_count": 0,
      "outputs": []
    },
    {
      "cell_type": "code",
      "metadata": {
        "id": "vch5PmMRyD-t",
        "colab_type": "code",
        "colab": {}
      },
      "source": [
        "model.add(Flatten())"
      ],
      "execution_count": 0,
      "outputs": []
    },
    {
      "cell_type": "code",
      "metadata": {
        "id": "rrFm62hQyD8F",
        "colab_type": "code",
        "colab": {}
      },
      "source": [
        "#model.add(Dense(units=4096,activation=\"relu\"))\n",
        "model.add(Dense(units=1024,activation=\"relu\"))"
      ],
      "execution_count": 0,
      "outputs": []
    },
    {
      "cell_type": "code",
      "metadata": {
        "id": "rry_ZkXQyD3p",
        "colab_type": "code",
        "colab": {}
      },
      "source": [
        "model.add(Dense(units=3, activation=\"softmax\"))"
      ],
      "execution_count": 0,
      "outputs": []
    },
    {
      "cell_type": "code",
      "metadata": {
        "id": "lHG5y8CTyD1z",
        "colab_type": "code",
        "outputId": "3e44adbb-fbb7-47b5-ae91-ce4921bc0ee7",
        "colab": {
          "base_uri": "https://localhost:8080/",
          "height": 107
        }
      },
      "source": [
        "opt = Adam(lr=0.0005)\n",
        "model.compile(optimizer=opt, loss=keras.losses.categorical_crossentropy, metrics=['accuracy'])"
      ],
      "execution_count": 0,
      "outputs": [
        {
          "output_type": "stream",
          "text": [
            "WARNING:tensorflow:From /usr/local/lib/python3.6/dist-packages/keras/optimizers.py:793: The name tf.train.Optimizer is deprecated. Please use tf.compat.v1.train.Optimizer instead.\n",
            "\n",
            "WARNING:tensorflow:From /usr/local/lib/python3.6/dist-packages/keras/backend/tensorflow_backend.py:3576: The name tf.log is deprecated. Please use tf.math.log instead.\n",
            "\n"
          ],
          "name": "stdout"
        }
      ]
    },
    {
      "cell_type": "code",
      "metadata": {
        "id": "il3gVX4YyDxl",
        "colab_type": "code",
        "colab": {}
      },
      "source": [
        "from keras.callbacks import ModelCheckpoint, EarlyStopping\n",
        "checkpoint = ModelCheckpoint(\"vgg16_1.h5\", monitor='val_acc', verbose=1, save_best_only=True, save_weights_only=False, mode='auto', period=1)\n",
        "early = EarlyStopping(monitor='val_acc', min_delta=0, patience=2, verbose=1, mode='auto')"
      ],
      "execution_count": 0,
      "outputs": []
    },
    {
      "cell_type": "code",
      "metadata": {
        "id": "QIzLXd_2yDwB",
        "colab_type": "code",
        "outputId": "c188038b-047c-4202-a9e8-bdc816323dfe",
        "colab": {
          "base_uri": "https://localhost:8080/",
          "height": 718
        }
      },
      "source": [
        "hist = model.fit_generator(steps_per_epoch=50,generator=traindata, validation_data= testdata, validation_steps=10,epochs=50,callbacks=[checkpoint,early])"
      ],
      "execution_count": 0,
      "outputs": [
        {
          "output_type": "stream",
          "text": [
            "Epoch 1/50\n",
            "WARNING:tensorflow:From /usr/local/lib/python3.6/dist-packages/keras/backend/tensorflow_backend.py:190: The name tf.get_default_session is deprecated. Please use tf.compat.v1.get_default_session instead.\n",
            "\n",
            "WARNING:tensorflow:From /usr/local/lib/python3.6/dist-packages/keras/backend/tensorflow_backend.py:197: The name tf.ConfigProto is deprecated. Please use tf.compat.v1.ConfigProto instead.\n",
            "\n",
            "WARNING:tensorflow:From /usr/local/lib/python3.6/dist-packages/keras/backend/tensorflow_backend.py:207: The name tf.global_variables is deprecated. Please use tf.compat.v1.global_variables instead.\n",
            "\n",
            "WARNING:tensorflow:From /usr/local/lib/python3.6/dist-packages/keras/backend/tensorflow_backend.py:216: The name tf.is_variable_initialized is deprecated. Please use tf.compat.v1.is_variable_initialized instead.\n",
            "\n",
            "WARNING:tensorflow:From /usr/local/lib/python3.6/dist-packages/keras/backend/tensorflow_backend.py:223: The name tf.variables_initializer is deprecated. Please use tf.compat.v1.variables_initializer instead.\n",
            "\n",
            "50/50 [==============================] - 855s 17s/step - loss: 0.4915 - acc: 0.8400 - val_loss: 0.4947 - val_acc: 0.8781\n",
            "\n",
            "Epoch 00001: val_acc improved from -inf to 0.87813, saving model to vgg16_1.h5\n",
            "Epoch 2/50\n",
            "50/50 [==============================] - 860s 17s/step - loss: 0.1593 - acc: 0.9550 - val_loss: 0.1939 - val_acc: 0.9375\n",
            "\n",
            "Epoch 00002: val_acc improved from 0.87813 to 0.93750, saving model to vgg16_1.h5\n",
            "Epoch 3/50\n",
            "50/50 [==============================] - 813s 16s/step - loss: 0.1377 - acc: 0.9531 - val_loss: 0.1685 - val_acc: 0.9437\n",
            "\n",
            "Epoch 00003: val_acc improved from 0.93750 to 0.94375, saving model to vgg16_1.h5\n",
            "Epoch 4/50\n",
            "50/50 [==============================] - 814s 16s/step - loss: 0.0851 - acc: 0.9706 - val_loss: 0.1579 - val_acc: 0.9594\n",
            "\n",
            "Epoch 00004: val_acc improved from 0.94375 to 0.95937, saving model to vgg16_1.h5\n",
            "Epoch 5/50\n",
            "50/50 [==============================] - 807s 16s/step - loss: 0.0902 - acc: 0.9688 - val_loss: 0.0899 - val_acc: 0.9656\n",
            "\n",
            "Epoch 00005: val_acc improved from 0.95937 to 0.96562, saving model to vgg16_1.h5\n",
            "Epoch 6/50\n",
            "50/50 [==============================] - 794s 16s/step - loss: 0.1105 - acc: 0.9656 - val_loss: 0.1157 - val_acc: 0.9469\n",
            "\n",
            "Epoch 00006: val_acc did not improve from 0.96562\n",
            "Epoch 7/50\n",
            "50/50 [==============================] - 777s 16s/step - loss: 0.1000 - acc: 0.9675 - val_loss: 0.1126 - val_acc: 0.9531\n",
            "\n",
            "Epoch 00007: val_acc did not improve from 0.96562\n",
            "Epoch 00007: early stopping\n"
          ],
          "name": "stdout"
        }
      ]
    },
    {
      "cell_type": "code",
      "metadata": {
        "id": "PSqHR0H0yDQB",
        "colab_type": "code",
        "outputId": "a328893e-1bfa-4d4e-f800-01c7a83d1bbc",
        "colab": {
          "base_uri": "https://localhost:8080/",
          "height": 295
        }
      },
      "source": [
        " import matplotlib.pyplot as plt\n",
        "plt.plot(hist.history[\"acc\"])\n",
        "plt.plot(hist.history['val_acc'])\n",
        "plt.plot(hist.history['loss'])\n",
        "plt.plot(hist.history['val_loss'])\n",
        "plt.title(\"model accuracy\")\n",
        "plt.ylabel(\"Accuracy\")\n",
        "plt.xlabel(\"Epoch\")\n",
        "plt.legend([\"Accuracy\",\"Validation Accuracy\",\"loss\",\"Validation Loss\"])\n",
        "plt.show()"
      ],
      "execution_count": 0,
      "outputs": [
        {
          "output_type": "display_data",
          "data": {
            "image/png": "[encoded data removed]",
            "text/plain": [
              "<Figure size 432x288 with 1 Axes>"
            ]
          },
          "metadata": {
            "tags": []
          }
        }
      ]
    },
    {
      "cell_type": "code",
      "metadata": {
        "id": "azCKDEOJZhyI",
        "colab_type": "code",
        "colab": {}
      },
      "source": [
        "saved_model = load_model(\"vgg16_1.h5\")"
      ],
      "execution_count": 0,
      "outputs": []
    },
    {
      "cell_type": "code",
      "metadata": {
        "id": "DllY4c5p3pGF",
        "colab_type": "code",
        "outputId": "db2d4997-499d-4a18-de38-f0931f9aea22",
        "colab": {
          "base_uri": "https://localhost:8080/",
          "height": 34
        }
      },
      "source": [
        "cd .."
      ],
      "execution_count": 47,
      "outputs": [
        {
          "output_type": "stream",
          "text": [
            "/content/drive/My Drive/AML_Project\n"
          ],
          "name": "stdout"
        }
      ]
    },
    {
      "cell_type": "code",
      "metadata": {
        "id": "dnQZB8kpZKrk",
        "colab_type": "code",
        "outputId": "d2761d87-eeca-4255-bcf6-f5ba26b0c846",
        "colab": {
          "base_uri": "https://localhost:8080/",
          "height": 34
        }
      },
      "source": [
        "cd ./Test/\n"
      ],
      "execution_count": 48,
      "outputs": [
        {
          "output_type": "stream",
          "text": [
            "/content/drive/My Drive/AML_Project/Test\n"
          ],
          "name": "stdout"
        }
      ]
    },
    {
      "cell_type": "code",
      "metadata": {
        "id": "WuVeTNZUz01f",
        "colab_type": "code",
        "colab": {}
      },
      "source": [
        "from keras.preprocessing import image\n",
        "from imutils import paths\n",
        "\n",
        "#testPaths = list(paths.list_images('/content/drive/My Drive/AML_Project/Test/'))\n",
        "True_Memes=0\n",
        "False_Memes=0\n",
        "\n",
        "for memes in range(1,501):\n",
        "    j=str(memes)\n",
        "    image0 = cv2.imread('/content/drive/My Drive/AML_Project/Test/'+j+\".jpg\")\n",
        "    img = image.load_img(j+\".jpg\",target_size=(224,224))\n",
        "    img = np.asarray(img)\n",
        "    #img=img/255\n",
        "    img = np.expand_dims(img, axis=0) \n",
        "    output = saved_model.predict(img)\n",
        "    #print (output)\n",
        "    out=np.argmax(output)\n",
        "    \n",
        "    \n",
        "    if out==1:\n",
        "        True_Memes+=1\n",
        "        #cv2.imwrite('others/'+name+'.jpg', image)\n",
        "        cv2.imwrite('Memes_Classified/'+j+'.jpg', image0)\n",
        "        \n",
        "    else:\n",
        "        False_Memes+=1\n",
        "Meme_accuracy= True_Memes/500\n",
        "print(\"Out of 500 Memes in the Dataset\",True_Memes,\"are correctly classified!\")\n",
        "print(\"Model was\",Meme_accuracy*100,\"% accurate in identifying memes.\")\n",
        "\n",
        "True_Humans=0\n",
        "False_Humans=0\n",
        "for humans in range(501,1001):\n",
        "    k=str(humans)\n",
        "    # image = cv2.imread(path)\n",
        "    image1= cv2.imread('/content/drive/My Drive/AML_Project/Test/'+k+\".jpg\")\n",
        "    img1 = image.load_img(k+\".jpg\",target_size=(224,224))\n",
        "    img1 = np.asarray(img1)\n",
        "    img1=img1/255\n",
        "    img1 = np.expand_dims(img1, axis=0)    \n",
        "    output1 = saved_model.predict(img1)\n",
        "    #print (output1)\n",
        "    out1=np.argmax(output1)\n",
        "    #print(out1)\n",
        "    if out1==0:\n",
        "        True_Humans+=1\n",
        "        \n",
        "        cv2.imwrite('Humans_Classified/'+k+'.jpg', image1)\n",
        "        \n",
        "    \n",
        "    else:\n",
        "        False_Humans+=1\n",
        "Human_accuracy= True_Humans/500\n",
        "print(\"Out of 500 Human images in the Dataset\",True_Humans,\"are correctly classified!\")\n",
        "print(\"Model was\",Human_accuracy*100,\"% accurate in identifying Humans.\")\n",
        "\n",
        "\n",
        "True_Text=0\n",
        "False_Text=0\n",
        "for text in range(1001,1501):\n",
        "    l=str(text)\n",
        "    # image = cv2.imread(path)\n",
        "    image2 = cv2.imread('/content/drive/My Drive/AML_Project/Test/'+l+\".jpg\")\n",
        "    img2 = image.load_img(l+\".jpg\",target_size=(224,224))\n",
        "    img2 = np.asarray(img2)\n",
        "    #img2=img2/255\n",
        "    img2 = np.expand_dims(img2, axis=0)\n",
        "    output2 = saved_model.predict(img2)\n",
        "    #print (output1)\n",
        "    out2=np.argmax(output2)\n",
        "    #print(out)\n",
        "    if out2==2:\n",
        "        True_Text+=1\n",
        "        cv2.imwrite('Text_Classified/'+l+'.jpg',image2)\n",
        "        \n",
        "    else:\n",
        "        False_Text+=1\n",
        "Text_accuracy= True_Text/500\n",
        "print(\"Out of 500 Text images in the Dataset\",True_Text,\"are correctly classified!\")\n",
        "print(\"Model was\",Text_accuracy*100,\"% accurate in identifying Text.\")\n",
        "\n",
        "Accuracy= (True_Text+True_Humans+True_Memes)/1500\n",
        "print('')\n",
        "print(\"Model was\",Accuracy*100,\"% accurate.\")"
      ],
      "execution_count": 0,
      "outputs": []
    },
    {
      "cell_type": "code",
      "metadata": {
        "id": "SG0VcIKDL9XX",
        "colab_type": "code",
        "colab": {
          "base_uri": "https://localhost:8080/",
          "height": 34
        },
        "outputId": "c8bb3887-d5ec-4219-fac1-c6c46d2df69a"
      },
      "source": [
        "cd ..\n"
      ],
      "execution_count": 30,
      "outputs": [
        {
          "output_type": "stream",
          "text": [
            "/content/drive/My Drive/AML_Project\n"
          ],
          "name": "stdout"
        }
      ]
    },
    {
      "cell_type": "code",
      "metadata": {
        "id": "ZhxqzcWQL__1",
        "colab_type": "code",
        "colab": {
          "base_uri": "https://localhost:8080/",
          "height": 34
        },
        "outputId": "39b14ad0-763a-4db5-b641-f20572826a36"
      },
      "source": [
        "cd ./Test1/"
      ],
      "execution_count": 31,
      "outputs": [
        {
          "output_type": "stream",
          "text": [
            "/content/drive/My Drive/AML_Project/Test1\n"
          ],
          "name": "stdout"
        }
      ]
    },
    {
      "cell_type": "code",
      "metadata": {
        "id": "_iCWtsXcsZt0",
        "colab_type": "code",
        "colab": {}
      },
      "source": [
        "from keras.preprocessing import image\n",
        "from imutils import paths\n",
        "from google.colab.patches import cv2_imshow\n",
        "\n",
        "\n",
        "\n",
        "True_Humans1=0\n",
        "False_Humans1=0\n",
        "for humans in range(1,16):\n",
        "    k=str(humans)\n",
        "    # image = cv2.imread(path)\n",
        "    image4= cv2.imread('/content/drive/My Drive/AML_Project/Test_with_our_images/'+k+\".jpg\")\n",
        "    img3 = image.load_img(k+\".jpg\",target_size=(224,224))\n",
        "    img3 = np.asarray(img3)\n",
        "    img3=img3/255\n",
        "    img3 = np.expand_dims(img3, axis=0)    \n",
        "    output1 = saved_model.predict(img3)\n",
        "    #print (output1)\n",
        "    out1=np.argmax(output1)\n",
        "  \n",
        "    if out1==0:\n",
        "        True_Humans1+=1\n",
        "        \n",
        "        cv2.imwrite('Our_images_classified/'+k+'.jpg', image4)\n",
        "        \n",
        "    \n",
        "    else:\n",
        "        False_Humans1+=1\n",
        "Human_accuracy= True_Humans1/15\n",
        "#cv2_imshow(image1)\n",
        "print('')\n",
        "print(\"Model was\",Human_accuracy*100,\"% accurate.\")"
      ],
      "execution_count": 0,
      "outputs": []
    },
    {
      "cell_type": "code",
      "metadata": {
        "id": "b28ULiuItsam",
        "colab_type": "code",
        "colab": {}
      },
      "source": [
        ""
      ],
      "execution_count": 0,
      "outputs": []
    }
  ]
}