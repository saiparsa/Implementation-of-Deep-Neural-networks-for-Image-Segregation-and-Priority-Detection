{
  "nbformat": 4,
  "nbformat_minor": 0,
  "metadata": {
    "colab": {
      "name": "Pre_processing.ipynb",
      "provenance": [],
      "collapsed_sections": []
    },
    "kernelspec": {
      "name": "python3",
      "display_name": "Python 3"
    }
  },
  "cells": [
    {
      "cell_type": "code",
      "metadata": {
        "id": "NcyL-eEP81iJ",
        "colab_type": "code",
        "colab": {}
      },
      "source": [
        " Referred to unzip file in google drive ::https://stackoverflow.com/questions/49685924/extract-google-drive-zip-from-google-colab-notebook"
      ],
      "execution_count": 0,
      "outputs": []
    },
    {
      "cell_type": "code",
      "metadata": {
        "id": "QPh2D05B9Ctf",
        "colab_type": "code",
        "colab": {}
      },
      "source": [
        "import zipfile\n",
        "from google.colab import drive\n",
        "\n",
        "drive.mount('/content/drive/')\n",
        "\n",
        "zip_ref = zipfile.ZipFile(\"/content/drive/My Drive/ML/DataSet.zip\", 'r')\n",
        "zip_ref.extractall(\"/tmp\")\n",
        "zip_ref.close()"
      ],
      "execution_count": 0,
      "outputs": []
    },
    {
      "cell_type": "markdown",
      "metadata": {
        "id": "Aft3fFDZ9PWD",
        "colab_type": "text"
      },
      "source": [
        "https://stackoverflow.com/questions/49685924/extract-google-drive-zip-from-google-colab-notebook"
      ]
    },
    {
      "cell_type": "code",
      "metadata": {
        "id": "k3gyNCdA9MMU",
        "colab_type": "code",
        "colab": {}
      },
      "source": [
        "!unzip  source.zip -d destination.zip"
      ],
      "execution_count": 0,
      "outputs": []
    }
  ]
}